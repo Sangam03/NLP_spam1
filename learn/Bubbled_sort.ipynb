{
 "cells": [
  {
   "cell_type": "code",
   "execution_count": null,
   "id": "94c9f55c",
   "metadata": {},
   "outputs": [],
   "source": [
    "def bubblesort(Lis1):\n",
    "    for i in range(len(Lis1)-1,0,-1):\n",
    "        for j in range(i):\n",
    "            if(Lis1[j]>Lis1[j+1]):\n",
    "                temp = Lis1[j]\n",
    "                Lis1[j] = Lis1[j+1]\n",
    "                Lis1[j+1] = temp\n",
    "Lis1 = [21,76,54,45,23,44,11]\n",
    "bubblesort(Lis1)\n",
    "print(\"The second largest element is:- \",Lis1[-2])"
   ]
  }
 ],
 "metadata": {
  "kernelspec": {
   "display_name": "Python 3 (ipykernel)",
   "language": "python",
   "name": "python3"
  },
  "language_info": {
   "codemirror_mode": {
    "name": "ipython",
    "version": 3
   },
   "file_extension": ".py",
   "mimetype": "text/x-python",
   "name": "python",
   "nbconvert_exporter": "python",
   "pygments_lexer": "ipython3",
   "version": "3.9.12"
  }
 },
 "nbformat": 4,
 "nbformat_minor": 5
}
